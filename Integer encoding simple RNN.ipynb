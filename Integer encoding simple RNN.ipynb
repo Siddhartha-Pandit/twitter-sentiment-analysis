{
 "cells": [
  {
   "cell_type": "code",
   "execution_count": 21,
   "id": "f6ea70ad-4179-4cdf-af72-7681a8b449ba",
   "metadata": {},
   "outputs": [],
   "source": [
    "import numpy as np\n",
    "from keras import Sequential\n",
    "from keras.layers import Dense,SimpleRNN,Embedding,Flatten"
   ]
  },
  {
   "cell_type": "code",
   "execution_count": 22,
   "id": "7fb30ebb-5f0a-4c7f-8104-57ce4fcbaf5f",
   "metadata": {},
   "outputs": [],
   "source": [
    "docs=[\n",
    "    'go india',\n",
    "    'india india',\n",
    "    'hip hip hurray',\n",
    "    'jeetega bhai jeetega india jeetega',\n",
    "    'bharat mata ki jai',\n",
    "    'kholi kholi',\n",
    "    'sachin sachin',\n",
    "    'dhoni dhoni',\n",
    "    'modi ji ki jai',\n",
    "    'inquilab zindabad'\n",
    "    \n",
    "]"
   ]
  },
  {
   "cell_type": "markdown",
   "id": "a2113db9-c6f4-4c77-a2bf-babe4cc67d4a",
   "metadata": {},
   "source": [
    "### Toknizer"
   ]
  },
  {
   "cell_type": "code",
   "execution_count": 23,
   "id": "f82fbe99-867d-4efb-820a-7cb625e20864",
   "metadata": {},
   "outputs": [],
   "source": [
    "from keras.preprocessing.text import Tokenizer\n",
    "tokenizer=Tokenizer(oov_token='<nothing>')"
   ]
  },
  {
   "cell_type": "markdown",
   "id": "9d8202a5-0716-4325-9820-6941832045e3",
   "metadata": {},
   "source": [
    "Tokenizer applies the integer value to each unique words and oov_token is replaced when new word comes and the word is not present in the training sample."
   ]
  },
  {
   "cell_type": "code",
   "execution_count": 24,
   "id": "c024bcd3-4cc5-40b0-8184-b6f18fd78ee8",
   "metadata": {},
   "outputs": [],
   "source": [
    "tokenizer.fit_on_texts(docs)"
   ]
  },
  {
   "cell_type": "markdown",
   "id": "212a60c1-b81c-4409-8618-184443d5d571",
   "metadata": {},
   "source": [
    "find the no of words in assigned with index"
   ]
  },
  {
   "cell_type": "code",
   "execution_count": 25,
   "id": "f91ea3c4-79ed-47ff-a365-70f816622968",
   "metadata": {},
   "outputs": [
    {
     "data": {
      "text/plain": [
       "{'<nothing>': 1,\n",
       " 'india': 2,\n",
       " 'jeetega': 3,\n",
       " 'hip': 4,\n",
       " 'ki': 5,\n",
       " 'jai': 6,\n",
       " 'kholi': 7,\n",
       " 'sachin': 8,\n",
       " 'dhoni': 9,\n",
       " 'go': 10,\n",
       " 'hurray': 11,\n",
       " 'bhai': 12,\n",
       " 'bharat': 13,\n",
       " 'mata': 14,\n",
       " 'modi': 15,\n",
       " 'ji': 16,\n",
       " 'inquilab': 17,\n",
       " 'zindabad': 18}"
      ]
     },
     "execution_count": 25,
     "metadata": {},
     "output_type": "execute_result"
    }
   ],
   "source": [
    "tokenizer.word_index"
   ]
  },
  {
   "cell_type": "markdown",
   "id": "ac89ca2d-8adf-476a-8ee0-b6c5f3c11e28",
   "metadata": {},
   "source": [
    "counts the frequency of the words in the text"
   ]
  },
  {
   "cell_type": "code",
   "execution_count": 26,
   "id": "1b1c0171-f5e9-4142-a265-4b3973221073",
   "metadata": {},
   "outputs": [
    {
     "data": {
      "text/plain": [
       "OrderedDict([('go', 1),\n",
       "             ('india', 4),\n",
       "             ('hip', 2),\n",
       "             ('hurray', 1),\n",
       "             ('jeetega', 3),\n",
       "             ('bhai', 1),\n",
       "             ('bharat', 1),\n",
       "             ('mata', 1),\n",
       "             ('ki', 2),\n",
       "             ('jai', 2),\n",
       "             ('kholi', 2),\n",
       "             ('sachin', 2),\n",
       "             ('dhoni', 2),\n",
       "             ('modi', 1),\n",
       "             ('ji', 1),\n",
       "             ('inquilab', 1),\n",
       "             ('zindabad', 1)])"
      ]
     },
     "execution_count": 26,
     "metadata": {},
     "output_type": "execute_result"
    }
   ],
   "source": [
    "tokenizer.word_counts"
   ]
  },
  {
   "cell_type": "markdown",
   "id": "64bfc6f8-dd6b-4062-b5f5-a21a10ba297a",
   "metadata": {},
   "source": [
    "check the number of sentences"
   ]
  },
  {
   "cell_type": "code",
   "execution_count": 27,
   "id": "39da15e9-edd1-4382-9a31-69b8a4acdf1f",
   "metadata": {},
   "outputs": [
    {
     "data": {
      "text/plain": [
       "10"
      ]
     },
     "execution_count": 27,
     "metadata": {},
     "output_type": "execute_result"
    }
   ],
   "source": [
    "tokenizer.document_count"
   ]
  },
  {
   "cell_type": "markdown",
   "id": "af7b1060-63ed-4c12-8845-9f0aba6373b9",
   "metadata": {},
   "source": [
    "Generating the sequences  the format of the sequence is \n",
    "index of go india\n",
    "go india:\n",
    "go:2\n",
    "india:10\n",
    "so the sequence is [10,2]"
   ]
  },
  {
   "cell_type": "code",
   "execution_count": 28,
   "id": "74b0b28c-5958-4a99-a0af-0ed1e78d4dff",
   "metadata": {},
   "outputs": [
    {
     "data": {
      "text/plain": [
       "[[10, 2],\n",
       " [2, 2],\n",
       " [4, 4, 11],\n",
       " [3, 12, 3, 2, 3],\n",
       " [13, 14, 5, 6],\n",
       " [7, 7],\n",
       " [8, 8],\n",
       " [9, 9],\n",
       " [15, 16, 5, 6],\n",
       " [17, 18]]"
      ]
     },
     "execution_count": 28,
     "metadata": {},
     "output_type": "execute_result"
    }
   ],
   "source": [
    "sequences=tokenizer.texts_to_sequences(docs)\n",
    "sequences"
   ]
  },
  {
   "cell_type": "code",
   "execution_count": 29,
   "id": "6bcbc4b8-8a53-4579-80d4-d820ff0f0353",
   "metadata": {},
   "outputs": [],
   "source": [
    "from keras.utils import pad_sequences"
   ]
  },
  {
   "cell_type": "markdown",
   "id": "e4530f2e-ca96-4435-9088-28b3ed986a37",
   "metadata": {},
   "source": [
    "Padding add 0s to the sentences the longest sentences is  <b>'jeetega bhai jeetega india jeetega'</b> which is 5 words and in <b>'go india'</b> there are two words so its adds 3 extra zeros to make it length of 5 the padding can be done pre or post"
   ]
  },
  {
   "cell_type": "code",
   "execution_count": 30,
   "id": "87141ec6-b8ae-4da8-8e8a-e2e9fa6ee981",
   "metadata": {},
   "outputs": [],
   "source": [
    "sequences=pad_sequences(sequences,padding='post')"
   ]
  },
  {
   "cell_type": "code",
   "execution_count": 31,
   "id": "9701b2c4-6d5d-46e3-b1cf-918f67b6e467",
   "metadata": {},
   "outputs": [
    {
     "data": {
      "text/plain": [
       "array([[10,  2,  0,  0,  0],\n",
       "       [ 2,  2,  0,  0,  0],\n",
       "       [ 4,  4, 11,  0,  0],\n",
       "       [ 3, 12,  3,  2,  3],\n",
       "       [13, 14,  5,  6,  0],\n",
       "       [ 7,  7,  0,  0,  0],\n",
       "       [ 8,  8,  0,  0,  0],\n",
       "       [ 9,  9,  0,  0,  0],\n",
       "       [15, 16,  5,  6,  0],\n",
       "       [17, 18,  0,  0,  0]])"
      ]
     },
     "execution_count": 31,
     "metadata": {},
     "output_type": "execute_result"
    }
   ],
   "source": [
    "sequences"
   ]
  },
  {
   "cell_type": "markdown",
   "id": "71fd6f52-d0af-45c4-a3ac-64529b23b17f",
   "metadata": {},
   "source": [
    "Embedding(totla volcab length or no of unique words in dataset,no of output dimension,no of words in sentence after padding)"
   ]
  },
  {
   "cell_type": "code",
   "execution_count": 33,
   "id": "b91432e5-9098-432f-86d6-081636bf0fec",
   "metadata": {},
   "outputs": [
    {
     "name": "stdout",
     "output_type": "stream",
     "text": [
      "Model: \"sequential_1\"\n",
      "_________________________________________________________________\n",
      " Layer (type)                Output Shape              Param #   \n",
      "=================================================================\n",
      " embedding_1 (Embedding)     (None, 5, 2)              34        \n",
      "                                                                 \n",
      "=================================================================\n",
      "Total params: 34\n",
      "Trainable params: 34\n",
      "Non-trainable params: 0\n",
      "_________________________________________________________________\n"
     ]
    }
   ],
   "source": [
    "model=Sequential()\n",
    "model.add(Embedding(17,output_dim=2,input_length=5))\n",
    "model.summary()"
   ]
  },
  {
   "cell_type": "code",
   "execution_count": 34,
   "id": "92aa0836-5b06-4f4a-a36a-87682928c10b",
   "metadata": {},
   "outputs": [],
   "source": [
    "model.compile('adam','accuracy')"
   ]
  },
  {
   "cell_type": "code",
   "execution_count": null,
   "id": "ea523904-ae66-4ddf-b6b4-f3091e9003ac",
   "metadata": {},
   "outputs": [],
   "source": []
  }
 ],
 "metadata": {
  "kernelspec": {
   "display_name": "Python 3 (ipykernel)",
   "language": "python",
   "name": "python3"
  },
  "language_info": {
   "codemirror_mode": {
    "name": "ipython",
    "version": 3
   },
   "file_extension": ".py",
   "mimetype": "text/x-python",
   "name": "python",
   "nbconvert_exporter": "python",
   "pygments_lexer": "ipython3",
   "version": "3.10.14"
  }
 },
 "nbformat": 4,
 "nbformat_minor": 5
}
