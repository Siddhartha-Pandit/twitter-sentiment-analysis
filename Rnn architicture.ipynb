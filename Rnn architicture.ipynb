{
 "cells": [
  {
   "cell_type": "code",
   "execution_count": 1,
   "id": "9c481373-f861-4d4b-b77b-b24ebb9de06c",
   "metadata": {},
   "outputs": [],
   "source": [
    "from keras import Sequential\n",
    "from keras.layers import Dense,SimpleRNN"
   ]
  },
  {
   "cell_type": "code",
   "execution_count": 4,
   "id": "7e92b852-c008-4a16-9648-cd5bf9f7ace8",
   "metadata": {},
   "outputs": [],
   "source": [
    "model=Sequential(\n",
    "    SimpleRNN(3,input_shape=(4,5)),\n",
    "    Dense(1,activation='sigmoid')\n",
    ")\n",
    "\n"
   ]
  },
  {
   "cell_type": "code",
   "execution_count": 5,
   "id": "fee9d9c3-8d5f-49df-b9a9-6b24bce583d5",
   "metadata": {},
   "outputs": [
    {
     "name": "stdout",
     "output_type": "stream",
     "text": [
      "Model: \"<keras.layers.core.dense.Dense object at 0x000001D5CFE59630>\"\n",
      "_________________________________________________________________\n",
      " Layer (type)                Output Shape              Param #   \n",
      "=================================================================\n",
      " simple_rnn_1 (SimpleRNN)    (None, 3)                 27        \n",
      "                                                                 \n",
      "=================================================================\n",
      "Total params: 27\n",
      "Trainable params: 27\n",
      "Non-trainable params: 0\n",
      "_________________________________________________________________\n"
     ]
    }
   ],
   "source": [
    "model.summary()"
   ]
  },
  {
   "cell_type": "code",
   "execution_count": 8,
   "id": "8f8653af-de69-4dfc-8e44-fee8f61762e5",
   "metadata": {},
   "outputs": [
    {
     "name": "stdout",
     "output_type": "stream",
     "text": [
      "(5, 3)\n"
     ]
    }
   ],
   "source": [
    "print(model.get_weights()[0].shape  # no of weight between the input layer and the hidden layer"
   ]
  },
  {
   "cell_type": "markdown",
   "id": "c296fa43-832f-4d5f-8b36-525b10d9bb6a",
   "metadata": {},
   "source": [
    "# Rnn has tanh activation function"
   ]
  },
  {
   "cell_type": "code",
   "execution_count": 9,
   "id": "7a9caa0c-0331-47cc-9e63-a342b4297186",
   "metadata": {},
   "outputs": [
    {
     "name": "stdout",
     "output_type": "stream",
     "text": [
      "(3, 3)\n"
     ]
    }
   ],
   "source": [
    "print(model.get_weights()[1].shape) #weight of feedback connection"
   ]
  },
  {
   "cell_type": "code",
   "execution_count": 13,
   "id": "154196f1-331f-414e-b0b4-04df30dee1c3",
   "metadata": {},
   "outputs": [
    {
     "name": "stdout",
     "output_type": "stream",
     "text": [
      "(3,)\n"
     ]
    }
   ],
   "source": [
    "print(model.get_weights()[2].shape) #weight of output the hidden and output layer"
   ]
  },
  {
   "cell_type": "code",
   "execution_count": null,
   "id": "db3b846e-bf07-4194-b484-1d21774a6890",
   "metadata": {},
   "outputs": [],
   "source": []
  }
 ],
 "metadata": {
  "kernelspec": {
   "display_name": "tensorgpu",
   "language": "python",
   "name": "tensorgpu"
  },
  "language_info": {
   "codemirror_mode": {
    "name": "ipython",
    "version": 3
   },
   "file_extension": ".py",
   "mimetype": "text/x-python",
   "name": "python",
   "nbconvert_exporter": "python",
   "pygments_lexer": "ipython3",
   "version": "3.10.14"
  }
 },
 "nbformat": 4,
 "nbformat_minor": 5
}
